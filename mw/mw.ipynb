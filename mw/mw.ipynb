{
 "cells": [
  {
   "cell_type": "code",
   "execution_count": 2,
   "metadata": {},
   "outputs": [],
   "source": [
    "from bs4 import BeautifulSoup\n",
    "import pandas as pd\n",
    "import re\n",
    "with open(\"mw.css\", \"r\") as c:\n",
    "\tcss = c.read()\n",
    "\n",
    "with open(f\"xml/mw.xml\") as f:\n",
    "\tsoup = BeautifulSoup(f, \"xml\")\n"
   ]
  },
  {
   "cell_type": "code",
   "execution_count": 37,
   "metadata": {},
   "outputs": [
    {
     "name": "stdout",
     "output_type": "stream",
     "text": [
      "<H1><h><key1>a</key1><key2>a</key2><hom>1</hom></h><body><hom>1.</hom> <s>a</s>   the first letter of the alphabet</body><tail><L>1</L><pc>1,1</pc></tail></H1>\n",
      "<H1><h><key1>a</key1><key2>a</key2><hom>2</hom></h><body><hom>2.</hom> <s>a</s>   (<s>pragfhya</s> <ab>q.v.</ab>), a vocative particle ([<s>a ananta</s>, O <s1 slp1=\"vizRu\">Viṣṇu</s1>]), <ls>T.</ls></body><tail><L>3</L><pc>1,1</pc></tail></H1>\n"
     ]
    }
   ],
   "source": [
    "\n",
    "\n",
    "\n",
    "counter = 0\n",
    "\n",
    "def unicoder(string):\n",
    "\tstring = re.sub(\"A\", \"ā\", string)\n",
    "\tstring = re.sub(\"A\", \"ī\", string)\n",
    "\tstring = re.sub(\"U\", \"ū\", string)\n",
    "\tstring = re.sub(\"E\", \"ai\", string)\n",
    "\tstring = re.sub(\"O\", \"au\", string)\n",
    "\tstring = re.sub(\"f\", \"ṛ\", string)\n",
    "\tstring = re.sub(\"F\", \"ṝ\", string)\n",
    "\n",
    "\tstring = re.sub(\"K\", \"kh\", string)\n",
    "\tstring = re.sub(\"J\", \"jh\", string)\n",
    "\tstring = re.sub(\"N\", \"ṅ\", string)\n",
    "\n",
    "\tstring = re.sub(\"C\", \"ch\", string)\n",
    "\tstring = re.sub(\"J\", \"jh\", string)\n",
    "\tstring = re.sub(\"Y\", \"ñ\", string)\n",
    "\n",
    "\tstring = re.sub(\"q\", \"ḍ\", string)\n",
    "\tstring = re.sub(\"Q\", \"ḍh\", string)\n",
    "\tstring = re.sub(\"w\", \"ṭ\", string)\n",
    "\tstring = re.sub(\"W\", \"ṭh\", string)\n",
    "\tstring = re.sub(\"R\", \"ṇ\", string)\n",
    "\n",
    "\tstring = re.sub(\"T\", \"th\", string)\n",
    "\tstring = re.sub(\"D\", \"dh\", string)\n",
    "\n",
    "\tstring = re.sub(\"P\", \"ph\", string)\n",
    "\tstring = re.sub(\"B\", \"bh\", string)\n",
    "\n",
    "\tstring = re.sub(\"z\", \"ṣ\", string)\n",
    "\tstring = re.sub(\"S\", \"ś\", string)\n",
    "\n",
    "\tstring = re.sub(\"H\", \"ḥ\", string)\n",
    "\tstring = re.sub(\"M\", \"ṃ\", string)\n",
    "\treturn string\n",
    "\n",
    "\n",
    "\n",
    "for word in soup.find_all(\"H1\"):\n",
    "\tif counter < 2:\n",
    "\t\t# word = unicoder(str(word))\n",
    "\t\tprint(word)\n",
    "\t\t# print(unicoder(str(word)))\n",
    "\t\tcounter+=1\n",
    "\n",
    "# find all h tags\n",
    "# pull headword\n",
    "# make html\n",
    "# do some css magix\n"
   ]
  },
  {
   "cell_type": "code",
   "execution_count": null,
   "metadata": {},
   "outputs": [],
   "source": []
  }
 ],
 "metadata": {
  "kernelspec": {
   "display_name": "Python 3.10.0 64-bit",
   "language": "python",
   "name": "python3"
  },
  "language_info": {
   "codemirror_mode": {
    "name": "ipython",
    "version": 3
   },
   "file_extension": ".py",
   "mimetype": "text/x-python",
   "name": "python",
   "nbconvert_exporter": "python",
   "pygments_lexer": "ipython3",
   "version": "3.10.0"
  },
  "orig_nbformat": 4,
  "vscode": {
   "interpreter": {
    "hash": "7e1998ff7f8aa20ada591c520b972326324e5ea05489af9e422744c7c09f6dad"
   }
  }
 },
 "nbformat": 4,
 "nbformat_minor": 2
}

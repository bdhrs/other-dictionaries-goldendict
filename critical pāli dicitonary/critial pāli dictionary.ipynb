{
 "cells": [
  {
   "cell_type": "markdown",
   "metadata": {},
   "source": [
    "setup"
   ]
  },
  {
   "cell_type": "code",
   "execution_count": null,
   "metadata": {},
   "outputs": [],
   "source": [
    "import pandas as pd\n",
    "import re\n",
    "import json\n",
    "\n",
    "df = pd.read_csv(\"raw data/cpd extract janaka.js\", sep=\"\\t\", header=None)\n",
    "df"
   ]
  },
  {
   "cell_type": "markdown",
   "metadata": {},
   "source": [
    "clean up"
   ]
  },
  {
   "cell_type": "code",
   "execution_count": null,
   "metadata": {},
   "outputs": [],
   "source": [
    "\n",
    "length =df.shape[0]\n",
    "width = df.shape[1]\n",
    "\n",
    "for row in range(length): # length:\n",
    "\tfor column in range(width):\n",
    "\n",
    "\t\tcell = df.iloc[row, column]\n",
    "\t\tcell = cell.replace(\"ṁ\", \"ṃ\")\n",
    "\t\tcell = cell.replace(\"\\\\'\", \"'\")\n",
    "\t\tdf.iloc[row, column] = cell\n"
   ]
  },
  {
   "cell_type": "markdown",
   "metadata": {},
   "source": [
    "add columns and rename"
   ]
  },
  {
   "cell_type": "code",
   "execution_count": null,
   "metadata": {},
   "outputs": [],
   "source": [
    "df.insert(2, \"definition_plain\", \"\")\n",
    "df.insert(3, \"synonyms\", \"\")\n",
    "df.rename({0:\"word\", 1:\"definition_html\"}, axis='columns', inplace=True)\n",
    "\n",
    "df.to_json(\"output/cpd.json\", force_ascii=False, orient=\"records\", indent=5)\n",
    "df"
   ]
  },
  {
   "cell_type": "markdown",
   "metadata": {},
   "source": [
    "generate goldendict"
   ]
  },
  {
   "cell_type": "code",
   "execution_count": null,
   "metadata": {},
   "outputs": [],
   "source": [
    "from typing import List\n",
    "from pathlib import Path\n",
    "from simsapa.app.stardict import export_words_as_stardict_zip, ifo_from_opts, DictEntry\n",
    "import json\n",
    "\n",
    "zip_path = Path(\"./output/cpd.zip\")\n",
    "\n",
    "with open(\"output/cpd.json\", \"r\") as gd_data:\n",
    "    data_read = json.load(gd_data)\n",
    "\n",
    "def item_to_word(x):\n",
    "    return DictEntry(\n",
    "        word=x[\"word\"],\n",
    "        definition_html=x[\"definition_html\"],\n",
    "        definition_plain=x[\"definition_plain\"],\n",
    "        synonyms=x[\"synonyms\"],\n",
    "    )\n",
    "\n",
    "words = list(map(item_to_word, data_read))\n",
    "\n",
    "ifo = ifo_from_opts(\n",
    "    {\n",
    "        \"bookname\": \"cpd\",\n",
    "        \"author\": \"\",\n",
    "        \"description\": \"critical pāli dictionary\",\n",
    "        \"website\": \"https://cpd.uni-koeln.de\",\n",
    "    }\n",
    ")\n",
    "\n",
    "export_words_as_stardict_zip(words, ifo, zip_path)"
   ]
  }
 ],
 "metadata": {
  "interpreter": {
   "hash": "8a94588eda9d64d9e9a351ab8144e55b1fabf5113b54e67dd26a8c27df0381b3"
  },
  "kernelspec": {
   "display_name": "Python 3.10.1 64-bit",
   "language": "python",
   "name": "python3"
  },
  "language_info": {
   "codemirror_mode": {
    "name": "ipython",
    "version": 3
   },
   "file_extension": ".py",
   "mimetype": "text/x-python",
   "name": "python",
   "nbconvert_exporter": "python",
   "pygments_lexer": "ipython3",
   "version": "3.10.1"
  },
  "orig_nbformat": 4
 },
 "nbformat": 4,
 "nbformat_minor": 2
}
